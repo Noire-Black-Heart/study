{
 "cells": [
  {
   "cell_type": "markdown",
   "metadata": {},
   "source": [
    "### COMP3419 - COMP3419: Graphics and Multimedia [S2, 2019]"
   ]
  },
  {
   "cell_type": "markdown",
   "metadata": {},
   "source": [
    "###### Week 1 - Python Introduction A - Python Programming"
   ]
  },
  {
   "cell_type": "markdown",
   "metadata": {},
   "source": [
    "#### To run a cell blow, simply click the cell and click 'Run' button in the menu bar above (or press 'shift' + 'enter')."
   ]
  },
  {
   "cell_type": "markdown",
   "metadata": {},
   "source": [
    "## 1. Print"
   ]
  },
  {
   "cell_type": "code",
   "execution_count": 1,
   "metadata": {},
   "outputs": [
    {
     "name": "stdout",
     "output_type": "stream",
     "text": [
      "Hello World!\n"
     ]
    }
   ],
   "source": [
    "variable_a = \"Hello World!\"\n",
    "print(variable_a)"
   ]
  },
  {
   "cell_type": "code",
   "execution_count": 2,
   "metadata": {},
   "outputs": [
    {
     "name": "stdout",
     "output_type": "stream",
     "text": [
      "COMP3419\n"
     ]
    }
   ],
   "source": [
    "variable_a = \"COMP\"\n",
    "variable_b = \"3419\"\n",
    "print(variable_a + variable_b)"
   ]
  },
  {
   "cell_type": "code",
   "execution_count": 3,
   "metadata": {},
   "outputs": [
    {
     "name": "stdout",
     "output_type": "stream",
     "text": [
      "4 3.7 0.0625 0.0625 string_text\n"
     ]
    }
   ],
   "source": [
    "print(4, 3.7, 1/16, 1.0/16,'string_text') \n",
    "#note for python 2.7 users: 1/16 -> 0 in python 2.7 "
   ]
  },
  {
   "cell_type": "code",
   "execution_count": 4,
   "metadata": {},
   "outputs": [
    {
     "name": "stdout",
     "output_type": "stream",
     "text": [
      "Welcome to COMP3419. My name is Chaoyi and I am looking forward to seeing you soon.\n",
      "Welcome to COMP3419. My name is Zihao  and I am looking forward to seeing you later.\n",
      "Welcome to COMP3419. My name is Heng   and I am looking forward to seeing you next week.\n",
      "Welcome to COMP3419. My name is Tiange and I am looking forward to seeing you on next Monday.\n"
     ]
    }
   ],
   "source": [
    "# use \"format\" to show information\n",
    "a = \"Welcome to COMP3419. My name is {} and I am looking forward to seeing you {}.\"\n",
    "print(a.format(\"Chaoyi\", \"soon\"))\n",
    "print(a.format(\"Zihao \", \"later\"))\n",
    "print(a.format(\"Heng  \", \"next week\"))\n",
    "print(a.format(\"Tiange\", \"on next Monday\"))"
   ]
  },
  {
   "cell_type": "markdown",
   "metadata": {},
   "source": [
    "## 2. Variables\n",
    "\n",
    "String, integer, float and bool (logical) variables are common data types in Python."
   ]
  },
  {
   "cell_type": "code",
   "execution_count": 5,
   "metadata": {},
   "outputs": [
    {
     "name": "stdout",
     "output_type": "stream",
     "text": [
      "Welcome to COMP3419  is  <class 'str'>\n",
      "10  is  <class 'int'>\n",
      "10.0  is  <class 'float'>\n",
      "True  is  <class 'bool'>\n"
     ]
    }
   ],
   "source": [
    "var1 = 'Welcome to COMP3419' \n",
    "print(var1, ' is ',type(var1)) \n",
    "\n",
    "var2 = 10\n",
    "print(var2, ' is ',type(var2))\n",
    "\n",
    "var3 = 10.0\n",
    "print(var3, ' is ',type(var3))\n",
    "\n",
    "var4 = True # or False\n",
    "print(var4, ' is ',type(var4))"
   ]
  },
  {
   "cell_type": "markdown",
   "metadata": {},
   "source": [
    "## 3. Arrays\n",
    "* An array is a list of variables. \n",
    "* Its first index is always 0 (not 1), and its last index is \"length of it - 1\""
   ]
  },
  {
   "cell_type": "code",
   "execution_count": 6,
   "metadata": {},
   "outputs": [
    {
     "name": "stdout",
     "output_type": "stream",
     "text": [
      "array = [2, 10, 80, 130, 210, 340, 3.7, 'Hello World', 'COMP3419']\n",
      "array[0] = 2\n",
      "array[3] = 130\n"
     ]
    }
   ],
   "source": [
    "array = [2, 10, 80, 130, 210, 340, 3.7, \"Hello World\", \"COMP3419\"]\n",
    "\n",
    "print('array = {}'.format(array))\n",
    "print('array[0] = {}'.format(array[0]))\n",
    "print('array[3] = {}'.format(array[3]))"
   ]
  },
  {
   "cell_type": "code",
   "execution_count": 7,
   "metadata": {},
   "outputs": [
    {
     "name": "stdout",
     "output_type": "stream",
     "text": [
      "array[-1] = COMP3419\n",
      "COMP3419 COMP3419 True\n",
      "Hello World Hello World True\n"
     ]
    }
   ],
   "source": [
    "# index can be negative\n",
    "print('array[-1] = {}'.format(array[-1]))\n",
    "print(array[-1], array[len(array)-1], array[-1] == array[len(array)-1])\n",
    "print(array[-2], array[len(array)-2], array[-2] == array[len(array)-2])"
   ]
  },
  {
   "cell_type": "code",
   "execution_count": 8,
   "metadata": {},
   "outputs": [
    {
     "name": "stdout",
     "output_type": "stream",
     "text": [
      "There are 9 elements in this array.\n"
     ]
    }
   ],
   "source": [
    "# Length of array\n",
    "length = len(array)\n",
    "print(\"There are {} elements in this array.\".format(length))"
   ]
  },
  {
   "cell_type": "code",
   "execution_count": 9,
   "metadata": {},
   "outputs": [
    {
     "name": "stdout",
     "output_type": "stream",
     "text": [
      "[340, 3.7, 'Hello World']\n",
      "There are 3 elements in the sliced_array.\n"
     ]
    }
   ],
   "source": [
    "# Slicing - 1\n",
    "start_index = 5\n",
    "end_index = 8\n",
    "sliced_array = array[start_index: end_index]\n",
    "print(sliced_array)\n",
    "print(\"There are {} elements in the sliced_array.\".format(len(sliced_array)))"
   ]
  },
  {
   "cell_type": "code",
   "execution_count": 10,
   "metadata": {},
   "outputs": [
    {
     "name": "stdout",
     "output_type": "stream",
     "text": [
      "[2, 10, 80]\n",
      "[3.7, 'Hello World', 'COMP3419']\n"
     ]
    }
   ],
   "source": [
    "# Slicing - 2\n",
    "# start_index can be ignored when it is 0, for example:\n",
    "print(array[:3])\n",
    "# end_index can be ignored when it is the last index, for example:\n",
    "print(array[-3:])"
   ]
  },
  {
   "cell_type": "code",
   "execution_count": 11,
   "metadata": {},
   "outputs": [
    {
     "name": "stdout",
     "output_type": "stream",
     "text": [
      "array[:3] = [2, 10, 80]\n",
      "array[3:6] = [130, 210, 340]\n",
      "array[3:-3] = [130, 210, 340]\n"
     ]
    }
   ],
   "source": [
    "# Slicing - 3\n",
    "print('array[:3] = {}'.format(array[:3]))\n",
    "print('array[3:6] = {}'.format(array[3:6]))\n",
    "print('array[3:-3] = {}'.format(array[3:-3]))"
   ]
  },
  {
   "cell_type": "code",
   "execution_count": 12,
   "metadata": {},
   "outputs": [
    {
     "name": "stdout",
     "output_type": "stream",
     "text": [
      "[111]\n",
      "[111, 222]\n",
      "[111, 222, 'COMP3419: Graphics and Multimedia']\n"
     ]
    }
   ],
   "source": [
    "# Append - 1\n",
    "array = [111]\n",
    "print(array)\n",
    "array.append(222)\n",
    "print(array)\n",
    "array.append(\"COMP3419: Graphics and Multimedia\")\n",
    "print(array)"
   ]
  },
  {
   "cell_type": "code",
   "execution_count": 13,
   "metadata": {},
   "outputs": [
    {
     "name": "stdout",
     "output_type": "stream",
     "text": [
      "['Banana', 'Cantaloupe', 'Apple', 'Tomato']\n",
      "['Banana', 'Cantaloupe', 'Apple', 'Papaya', 'Grapes']\n"
     ]
    }
   ],
   "source": [
    "# Append - 2\n",
    "fruitSalad = ['Banana', 'Cantaloupe', 'Apple', 'Tomato']\n",
    "print(fruitSalad)\n",
    "\n",
    "fruitSalad.remove('Tomato')\n",
    "fruitSalad.append('Papaya')\n",
    "fruitSalad.append('Grapes')\n",
    "print(fruitSalad)"
   ]
  },
  {
   "cell_type": "code",
   "execution_count": 14,
   "metadata": {},
   "outputs": [
    {
     "name": "stdout",
     "output_type": "stream",
     "text": [
      "False\n",
      "True\n",
      "False\n"
     ]
    }
   ],
   "source": [
    "# Search element in array\n",
    "print('Strawberry' in fruitSalad)\n",
    "print(5 in [0,5,3])\n",
    "print(1 in [0,5,3])"
   ]
  },
  {
   "cell_type": "code",
   "execution_count": 15,
   "metadata": {},
   "outputs": [
    {
     "name": "stdout",
     "output_type": "stream",
     "text": [
      "58\n",
      "-1\n",
      "35\n"
     ]
    }
   ],
   "source": [
    "# sum, min, max\n",
    "array = [5, 19, 35, -1]\n",
    "print(sum(array))\n",
    "print(min(array))\n",
    "print(max(array))"
   ]
  },
  {
   "cell_type": "code",
   "execution_count": 16,
   "metadata": {},
   "outputs": [
    {
     "name": "stdout",
     "output_type": "stream",
     "text": [
      "[[1, 2, 3], [4, 5, 6], [7, 8, 9]]\n"
     ]
    }
   ],
   "source": [
    "# 2d array\n",
    "row1 = [1,2,3]\n",
    "row2 = [4,5,6]\n",
    "row3 = [7,8,9]\n",
    "array2D = [row1, row2, row3]\n",
    "print(array2D)"
   ]
  },
  {
   "cell_type": "markdown",
   "metadata": {},
   "source": [
    "## 4. Arithmetic Operators"
   ]
  },
  {
   "cell_type": "code",
   "execution_count": 17,
   "metadata": {},
   "outputs": [
    {
     "name": "stdout",
     "output_type": "stream",
     "text": [
      "[Addition]       x=10, y=20, z=30\n",
      "[Subtraction]    x=10, y=20, z=-10\n",
      "[Multiplication] x=10, y=20, z=200\n",
      "[Division]       x=10, y=20, z=0.5\n",
      "[Power]          x=2, y=5, z=32\n"
     ]
    }
   ],
   "source": [
    "# Numerical Variables - 1\n",
    "x = 10\n",
    "y = 20\n",
    "z = x + y\n",
    "print(\"[Addition]       x={}, y={}, z={}\".format(x, y, z)) \n",
    "x = 10\n",
    "y = 20\n",
    "z = x - y\n",
    "print(\"[Subtraction]    x={}, y={}, z={}\".format(x, y, z)) \n",
    "x = 10\n",
    "y = 20\n",
    "z = x * y\n",
    "print(\"[Multiplication] x={}, y={}, z={}\".format(x, y, z)) \n",
    "x = 10\n",
    "y = 20\n",
    "z = x / y\n",
    "print(\"[Division]       x={}, y={}, z={}\".format(x, y, z)) \n",
    "x = 2\n",
    "y = 5\n",
    "z = x ** y\n",
    "print(\"[Power]          x={}, y={}, z={}\".format(x, y, z)) "
   ]
  },
  {
   "cell_type": "code",
   "execution_count": 18,
   "metadata": {},
   "outputs": [
    {
     "name": "stdout",
     "output_type": "stream",
     "text": [
      "x = 20, y = 7, x // y = 2, x % y = 6 \n",
      "x = 2 * y + 6\n"
     ]
    }
   ],
   "source": [
    "# Numerical Variables - 2\n",
    "x = 20\n",
    "y = 7\n",
    "z = x % y\n",
    "print(\"x = {}, y = {}, x // y = {}, x % y = {} \".format(x, y, x // y, x % y)) \n",
    "print(\"x = {} * y + {}\".format(x // y, x % y))"
   ]
  },
  {
   "cell_type": "code",
   "execution_count": 19,
   "metadata": {},
   "outputs": [
    {
     "name": "stdout",
     "output_type": "stream",
     "text": [
      "Alan Turing\n"
     ]
    }
   ],
   "source": [
    "#string operations\n",
    "firstName = 'Alan'\n",
    "lastName = 'Turing'\n",
    "fullName = firstName + ' ' + lastName\n",
    "print(fullName) "
   ]
  },
  {
   "cell_type": "code",
   "execution_count": 20,
   "metadata": {},
   "outputs": [
    {
     "name": "stdout",
     "output_type": "stream",
     "text": [
      "a = 3.5 and int(a) = 3\n",
      "b = 12 and float(a) = 12.0\n"
     ]
    }
   ],
   "source": [
    "# Cast Type between Integer and FloatingPointValue\n",
    "a = 3.5\n",
    "print(\"a = {} and int(a) = {}\".format(a, int(a)))\n",
    "b = 12\n",
    "print(\"b = {} and float(a) = {}\".format(b, float(b)))"
   ]
  },
  {
   "cell_type": "markdown",
   "metadata": {},
   "source": [
    "## 5. Logical Operators\n",
    "\n",
    "Logical operators are used to identify the relationship between two entities (e.g. variables) and the output is either True or False.\n"
   ]
  },
  {
   "cell_type": "code",
   "execution_count": 21,
   "metadata": {},
   "outputs": [
    {
     "name": "stdout",
     "output_type": "stream",
     "text": [
      "20 > 10? True\n",
      "20 == 10? False\n",
      "20 != 10? True\n"
     ]
    }
   ],
   "source": [
    "a = 20 > 10\n",
    "print(\"20 > 10? {}\".format(a))\n",
    "b = 20 == 10\n",
    "print(\"20 == 10? {}\".format(b))\n",
    "c = 20 != 10\n",
    "print(\"20 != 10? {}\".format(c))"
   ]
  },
  {
   "cell_type": "code",
   "execution_count": 22,
   "metadata": {},
   "outputs": [
    {
     "name": "stdout",
     "output_type": "stream",
     "text": [
      "[and]\n",
      "   True\n",
      "   False\n",
      "   False\n",
      "   False\n",
      "[or]\n",
      "   True\n",
      "   True\n",
      "   False\n",
      "   False\n",
      "[not]\n",
      "   False\n",
      "   True\n"
     ]
    }
   ],
   "source": [
    "# Basic logical operations: and, or, not\n",
    "print('[and]')\n",
    "print('  ', True and True)\n",
    "print('  ', True and False)\n",
    "print('  ', False and False)\n",
    "print('  ', False and False)\n",
    "print('[or]')\n",
    "print('  ', True or True)\n",
    "print('  ', True or False)\n",
    "print('  ', False or False)\n",
    "print('  ', False or False)\n",
    "print('[not]')\n",
    "print('  ', not True)\n",
    "print('  ', not False)"
   ]
  },
  {
   "cell_type": "code",
   "execution_count": 23,
   "metadata": {},
   "outputs": [
    {
     "name": "stdout",
     "output_type": "stream",
     "text": [
      "False\n",
      "True\n",
      "False\n",
      "True\n",
      "True\n",
      "True\n",
      "True\n"
     ]
    }
   ],
   "source": [
    "# other logical operations\n",
    "print(15 == 30)\n",
    "print(15 != 30)\n",
    "print(15 > 30)\n",
    "print(15 < 30)\n",
    "print(15 <= 30)\n",
    "print(15 <= 15)\n",
    "print(15 >= 15)"
   ]
  },
  {
   "cell_type": "markdown",
   "metadata": {},
   "source": [
    "## 6. Control Statement\n",
    "\n",
    "- if, elif, else\n",
    "- indentation matters!"
   ]
  },
  {
   "cell_type": "code",
   "execution_count": 24,
   "metadata": {},
   "outputs": [
    {
     "name": "stdout",
     "output_type": "stream",
     "text": [
      "-45.6\n",
      "y is non-positive\n"
     ]
    }
   ],
   "source": [
    "x = 2\n",
    "y = 1.1*(x**2) - 15*x - 20\n",
    "print(y)\n",
    "if y > 0:      \n",
    "    print('y is positive')\n",
    "else:\n",
    "    print('y is non-positive')"
   ]
  },
  {
   "cell_type": "code",
   "execution_count": 25,
   "metadata": {},
   "outputs": [
    {
     "name": "stdout",
     "output_type": "stream",
     "text": [
      "0\n",
      "y is zero\n"
     ]
    }
   ],
   "source": [
    "x = 2\n",
    "y= x * 0\n",
    "print(y)\n",
    "if y==0:\n",
    "    print('y is zero')\n",
    "elif y>0:\n",
    "    print('y is positive')\n",
    "else:\n",
    "    print('y is negative')"
   ]
  },
  {
   "cell_type": "code",
   "execution_count": 26,
   "metadata": {},
   "outputs": [
    {
     "name": "stdout",
     "output_type": "stream",
     "text": [
      "In range!\n"
     ]
    }
   ],
   "source": [
    "x = 10\n",
    "a, b = -15, 15\n",
    "if x > a and x < b: \n",
    "    print('In range!')\n",
    "else:\n",
    "    print('Out of range!')"
   ]
  },
  {
   "cell_type": "markdown",
   "metadata": {},
   "source": [
    "## 7. Loops and Iterations"
   ]
  },
  {
   "cell_type": "code",
   "execution_count": 27,
   "metadata": {},
   "outputs": [
    {
     "name": "stdout",
     "output_type": "stream",
     "text": [
      "0\n",
      "1\n",
      "2\n",
      "3\n",
      "4\n",
      "5\n",
      "6\n",
      "7\n",
      "8\n",
      "9\n"
     ]
    }
   ],
   "source": [
    "# range(start_value, end_value, step)\n",
    "for i in range(0, 10, 1): \n",
    "    print(i)"
   ]
  },
  {
   "cell_type": "code",
   "execution_count": 28,
   "metadata": {},
   "outputs": [
    {
     "name": "stdout",
     "output_type": "stream",
     "text": [
      "45\n"
     ]
    }
   ],
   "source": [
    "# range(start_value, end_value, step)\n",
    "sum_var = 0\n",
    "for i in range(10): #alternative: range(0,10,1)\n",
    "    sum_var = sum_var + i #: alternative sum_var += i\n",
    "print(sum_var)"
   ]
  },
  {
   "cell_type": "code",
   "execution_count": 29,
   "metadata": {},
   "outputs": [
    {
     "name": "stdout",
     "output_type": "stream",
     "text": [
      "10\n",
      "13\n",
      "16\n",
      "19\n"
     ]
    }
   ],
   "source": [
    "# while loop - 1\n",
    "current_value = 10\n",
    "while current_value < 20:\n",
    "    print(current_value)\n",
    "    current_value += 3"
   ]
  },
  {
   "cell_type": "code",
   "execution_count": 30,
   "metadata": {},
   "outputs": [
    {
     "name": "stdout",
     "output_type": "stream",
     "text": [
      "10 False\n",
      "13 False\n",
      "16 False\n",
      "19 False\n",
      "22 True\n",
      "break!\n"
     ]
    }
   ],
   "source": [
    "# while loop - 2\n",
    "current_value = 10\n",
    "while True:\n",
    "    flag = current_value > 20\n",
    "    print(current_value, flag)\n",
    "    if flag:\n",
    "        print('break!')\n",
    "        break\n",
    "    current_value += 3"
   ]
  },
  {
   "cell_type": "code",
   "execution_count": 31,
   "metadata": {},
   "outputs": [
    {
     "name": "stdout",
     "output_type": "stream",
     "text": [
      "30.5\n"
     ]
    }
   ],
   "source": [
    "# Iteration along an array\n",
    "x = [10, 20, 30, -35, 5.5]\n",
    "sum_var = 0\n",
    "for i in x:\n",
    "    sum_var = sum_var + i\n",
    "print(sum_var)"
   ]
  },
  {
   "cell_type": "markdown",
   "metadata": {},
   "source": [
    "## 8. Functions\n",
    "- Indentation matters"
   ]
  },
  {
   "cell_type": "code",
   "execution_count": 32,
   "metadata": {},
   "outputs": [
    {
     "name": "stdout",
     "output_type": "stream",
     "text": [
      "This is my first function!\n"
     ]
    }
   ],
   "source": [
    "def my_first_function():\n",
    "    # Function Definition\n",
    "    print('This is my first function!')\n",
    "    \n",
    "    \n",
    "my_first_function()"
   ]
  },
  {
   "cell_type": "code",
   "execution_count": 33,
   "metadata": {},
   "outputs": [
    {
     "name": "stdout",
     "output_type": "stream",
     "text": [
      "This is my second function\n",
      "8\n"
     ]
    }
   ],
   "source": [
    "# function with arguments\n",
    "def my_second_function(value1, value2):\n",
    "    print('This is my second function')\n",
    "    print(value1+value2)\n",
    "    \n",
    "my_second_function(3, 5)"
   ]
  },
  {
   "cell_type": "code",
   "execution_count": 34,
   "metadata": {},
   "outputs": [
    {
     "name": "stdout",
     "output_type": "stream",
     "text": [
      "This is my third function\n",
      "COMP3419\n"
     ]
    }
   ],
   "source": [
    "# function with return value\n",
    "def my_third_function():\n",
    "    print('This is my third function')\n",
    "    return \"COMP3419\"\n",
    "    \n",
    "return_value = my_third_function()\n",
    "print(return_value)"
   ]
  },
  {
   "cell_type": "code",
   "execution_count": 35,
   "metadata": {},
   "outputs": [
    {
     "name": "stdout",
     "output_type": "stream",
     "text": [
      "my_forth_function is an average calculator\n",
      "25.0\n"
     ]
    }
   ],
   "source": [
    "# function with argument and return value\n",
    "def my_fourth_function(array):\n",
    "    print('my_forth_function is an average calculator')\n",
    "    sum_var = 0\n",
    "    for element_index in range(len(array)):\n",
    "        sum_var += array[element_index]\n",
    "    return sum_var / len(array)\n",
    "        \n",
    "    \n",
    "average = my_fourth_function([10,20,30,40])\n",
    "print(average)"
   ]
  },
  {
   "cell_type": "markdown",
   "metadata": {},
   "source": [
    "## 9. Comments"
   ]
  },
  {
   "cell_type": "code",
   "execution_count": 36,
   "metadata": {},
   "outputs": [
    {
     "name": "stdout",
     "output_type": "stream",
     "text": [
      "You can use # to add comments, to make your code more readable.\n"
     ]
    }
   ],
   "source": [
    "# The following code will use a print function to show comments in python.\n",
    "print(\"You can use # to add comments, to make your code more readable.\")\n",
    "# print(\"You can use # to add comments, to make your code more readable.\")\n",
    "# code with comment will not be executed."
   ]
  },
  {
   "cell_type": "code",
   "execution_count": 37,
   "metadata": {},
   "outputs": [
    {
     "name": "stdout",
     "output_type": "stream",
     "text": [
      "Comment block\n"
     ]
    }
   ],
   "source": [
    "'''\n",
    "    Another way to add a comment block.\n",
    "'''\n",
    "print(\"Comment block\")"
   ]
  }
 ],
 "metadata": {
  "kernelspec": {
   "display_name": "Python 3",
   "language": "python",
   "name": "python3"
  },
  "language_info": {
   "codemirror_mode": {
    "name": "ipython",
    "version": 3
   },
   "file_extension": ".py",
   "mimetype": "text/x-python",
   "name": "python",
   "nbconvert_exporter": "python",
   "pygments_lexer": "ipython3",
   "version": "3.7.3"
  }
 },
 "nbformat": 4,
 "nbformat_minor": 1
}
