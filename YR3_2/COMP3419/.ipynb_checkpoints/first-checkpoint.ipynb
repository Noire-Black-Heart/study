{
 "cells": [
  {
   "cell_type": "code",
   "execution_count": 1,
   "metadata": {},
   "outputs": [
    {
     "name": "stdout",
     "output_type": "stream",
     "text": [
      "Hello World!\n"
     ]
    }
   ],
   "source": [
    "variable_a = \"Hello World!\"\n",
    "print(variable_a)"
   ]
  },
  {
   "cell_type": "code",
   "execution_count": 2,
   "metadata": {},
   "outputs": [
    {
     "name": "stdout",
     "output_type": "stream",
     "text": [
      "COMP3419\n"
     ]
    }
   ],
   "source": [
    "variable_a = \"COMP\"\n",
    "variable_b = \"3419\"\n",
    "print(variable_a + variable_b)\n"
   ]
  },
  {
   "cell_type": "code",
   "execution_count": 3,
   "metadata": {
    "scrolled": true
   },
   "outputs": [
    {
     "name": "stdout",
     "output_type": "stream",
     "text": [
      "4 3.7 0.0625 0.0625 string_text\n"
     ]
    }
   ],
   "source": [
    "print(4, 3.7, 1/16, 1.0/16,'string_text')\n",
    "#note for python 2.7 users: 1/16 -> 0 in python 2.7 \n"
   ]
  },
  {
   "cell_type": "code",
   "execution_count": 4,
   "metadata": {},
   "outputs": [
    {
     "name": "stdout",
     "output_type": "stream",
     "text": [
      "Welcome to COMP3419. My name is Chaoyi and I am looking forward to seeing yousoon.\n",
      "Welcome to COMP3419. My name is Zihao  and I am looking forward to seeing youlater.\n",
      "Welcome to COMP3419. My name is Heng  and I am looking forward to seeing younext week.\n",
      "Welcome to COMP3419. My name is Tiange and I am looking forward to seeing youon next Monday.\n"
     ]
    }
   ],
   "source": [
    "# use \"format\" to show information\n",
    "a = \"Welcome to COMP3419. My name is {} and I am looking forward to seeing you{}.\"\n",
    "print(a.format(\"Chaoyi\", \"soon\"))\n",
    "print(a.format(\"Zihao \", \"later\"))\n",
    "print(a.format(\"Heng \", \"next week\"))\n",
    "print(a.format(\"Tiange\", \"on next Monday\"))\n"
   ]
  },
  {
   "cell_type": "code",
   "execution_count": 5,
   "metadata": {},
   "outputs": [
    {
     "name": "stdout",
     "output_type": "stream",
     "text": [
      "Welcome to COMP3419  is  <class 'str'>\n",
      "10  is  <class 'int'>\n",
      "10.0  is  <class 'float'>\n",
      "True  is  <class 'bool'>\n"
     ]
    }
   ],
   "source": [
    "var1 = 'Welcome to COMP3419'\n",
    "print(var1, ' is ',type(var1))\n",
    "var2 = 10\n",
    "print(var2, ' is ',type(var2))\n",
    "var3 = 10.0\n",
    "print(var3, ' is ',type(var3))\n",
    "var4 = True # or False\n",
    "print(var4, ' is ',type(var4))"
   ]
  },
  {
   "cell_type": "code",
   "execution_count": 6,
   "metadata": {},
   "outputs": [
    {
     "name": "stdout",
     "output_type": "stream",
     "text": [
      "array = [2, 10, 80, 130, 210, 340, 3.7, 'Hello World', 'COMP3419']\n",
      "array[0] = 2\n",
      "array[3] = 130\n"
     ]
    }
   ],
   "source": [
    "array = [2, 10, 80, 130, 210, 340, 3.7, \"Hello World\", \"COMP3419\"]\n",
    "print('array = {}'.format(array))\n",
    "print('array[0] = {}'.format(array[0]))\n",
    "print('array[3] = {}'.format(array[3]))"
   ]
  },
  {
   "cell_type": "code",
   "execution_count": 7,
   "metadata": {},
   "outputs": [
    {
     "name": "stdout",
     "output_type": "stream",
     "text": [
      "array[-1] = COMP3419\n",
      "COMP3419 COMP3419 True\n",
      "Hello World Hello World True\n"
     ]
    }
   ],
   "source": [
    "# index can be negative\n",
    "print('array[-1] = {}'.format(array[-1]))\n",
    "print(array[-1], array[len(array)-1], array[-1] == array[len(array)-1])\n",
    "print(array[-2], array[len(array)-2], array[-2] == array[len(array)-2])"
   ]
  },
  {
   "cell_type": "code",
   "execution_count": 8,
   "metadata": {},
   "outputs": [
    {
     "name": "stdout",
     "output_type": "stream",
     "text": [
      "There are 9 elements in this array.\n"
     ]
    }
   ],
   "source": [
    "# Length of array\n",
    "length = len(array)\n",
    "print(\"There are {} elements in this array.\".format(length))"
   ]
  },
  {
   "cell_type": "code",
   "execution_count": 9,
   "metadata": {},
   "outputs": [
    {
     "name": "stdout",
     "output_type": "stream",
     "text": [
      "[340, 3.7, 'Hello World']\n",
      "There are 3 elements in the sliced_array.\n"
     ]
    }
   ],
   "source": [
    "# Slicing - 1\n",
    "start_index = 5\n",
    "end_index = 8\n",
    "sliced_array = array[start_index: end_index]\n",
    "print(sliced_array)\n",
    "print(\"There are {} elements in the sliced_array.\".format(len(sliced_array)))"
   ]
  },
  {
   "cell_type": "code",
   "execution_count": 10,
   "metadata": {},
   "outputs": [
    {
     "name": "stdout",
     "output_type": "stream",
     "text": [
      "[2, 10, 80]\n",
      "[3.7, 'Hello World', 'COMP3419']\n"
     ]
    }
   ],
   "source": [
    "# Slicing - 2\n",
    "# start_index can be ignored when it is 0, for example:\n",
    "print(array[:3])\n",
    "# end_index can be ignored when it is the last index, for example:\n",
    "print(array[-3:])\n"
   ]
  },
  {
   "cell_type": "code",
   "execution_count": 11,
   "metadata": {},
   "outputs": [
    {
     "name": "stdout",
     "output_type": "stream",
     "text": [
      "array[:3] = [2, 10, 80]\n",
      "array[3:6] = [130, 210, 340]\n",
      "array[3:-3] = [130, 210, 340]\n"
     ]
    }
   ],
   "source": [
    "# Slicing - 3\n",
    "print('array[:3] = {}'.format(array[:3]))\n",
    "print('array[3:6] = {}'.format(array[3:6]))\n",
    "print('array[3:-3] = {}'.format(array[3:-3]))\n"
   ]
  },
  {
   "cell_type": "code",
   "execution_count": 12,
   "metadata": {},
   "outputs": [
    {
     "name": "stdout",
     "output_type": "stream",
     "text": [
      "[111]\n",
      "[111, 222]\n",
      "[111, 222, 'COMP3419: Graphics and Multimedia']\n"
     ]
    }
   ],
   "source": [
    "# Append - 1\n",
    "array = [111]\n",
    "print(array)\n",
    "array.append(222)\n",
    "print(array)\n",
    "array.append(\"COMP3419: Graphics and Multimedia\")\n",
    "print(array)\n"
   ]
  },
  {
   "cell_type": "code",
   "execution_count": 13,
   "metadata": {},
   "outputs": [
    {
     "name": "stdout",
     "output_type": "stream",
     "text": [
      "['Banana', 'Cantaloupe', 'Apple', 'Tomato']\n",
      "['Banana', 'Cantaloupe', 'Apple', 'Papaya', 'Grapes']\n"
     ]
    }
   ],
   "source": [
    "# Append - 2\n",
    "fruitSalad = ['Banana', 'Cantaloupe', 'Apple', 'Tomato']\n",
    "print(fruitSalad)\n",
    "fruitSalad.remove('Tomato')\n",
    "fruitSalad.append('Papaya')\n",
    "fruitSalad.append('Grapes')\n",
    "print(fruitSalad)\n"
   ]
  },
  {
   "cell_type": "code",
   "execution_count": 14,
   "metadata": {},
   "outputs": [
    {
     "name": "stdout",
     "output_type": "stream",
     "text": [
      "False\n",
      "True\n",
      "False\n"
     ]
    }
   ],
   "source": [
    "# Search element in array\n",
    "print('Strawberry' in fruitSalad)\n",
    "print(5 in [0,5,3])\n",
    "print(1 in [0,5,3])\n"
   ]
  },
  {
   "cell_type": "code",
   "execution_count": 15,
   "metadata": {},
   "outputs": [
    {
     "name": "stdout",
     "output_type": "stream",
     "text": [
      "58\n",
      "-1\n",
      "35\n"
     ]
    }
   ],
   "source": [
    "# sum, min, max\n",
    "array = [5, 19, 35, -1]\n",
    "print(sum(array))\n",
    "print(min(array))\n",
    "print(max(array))\n"
   ]
  },
  {
   "cell_type": "code",
   "execution_count": 16,
   "metadata": {},
   "outputs": [
    {
     "name": "stdout",
     "output_type": "stream",
     "text": [
      "[[1, 2, 3], [4, 5, 6], [7, 8, 9]]\n"
     ]
    }
   ],
   "source": [
    "# 2d array\n",
    "row1 = [1,2,3]\n",
    "row2 = [4,5,6]\n",
    "row3 = [7,8,9]\n",
    "array2D = [row1, row2, row3]\n",
    "print(array2D)"
   ]
  },
  {
   "cell_type": "code",
   "execution_count": 17,
   "metadata": {},
   "outputs": [
    {
     "name": "stdout",
     "output_type": "stream",
     "text": [
      "[Addition] x=10, y=20, z=30\n",
      "[Subtraction] x=10, y=20, z=-10\n",
      "[Multiplication] x=10, y=20, z=200\n",
      "[Division] x=10, y=20, z=0.5\n",
      "[Power] x=2, y=5, z=32\n"
     ]
    }
   ],
   "source": [
    "# Numerical Variables - 1\n",
    "x = 10\n",
    "y = 20\n",
    "z = x + y\n",
    "print(\"[Addition] x={}, y={}, z={}\".format(x, y, z))\n",
    "x = 10\n",
    "y = 20\n",
    "z = x - y\n",
    "print(\"[Subtraction] x={}, y={}, z={}\".format(x, y, z))\n",
    "x = 10\n",
    "y = 20\n",
    "z = x * y\n",
    "print(\"[Multiplication] x={}, y={}, z={}\".format(x, y, z))\n",
    "x = 10\n",
    "y = 20\n",
    "z = x / y\n",
    "print(\"[Division] x={}, y={}, z={}\".format(x, y, z))\n",
    "x = 2\n",
    "y = 5\n",
    "z = x ** y\n",
    "print(\"[Power] x={}, y={}, z={}\".format(x, y, z))"
   ]
  },
  {
   "cell_type": "code",
   "execution_count": 18,
   "metadata": {},
   "outputs": [
    {
     "name": "stdout",
     "output_type": "stream",
     "text": [
      "x = 20, y = 7, x // y = 2, x % y = 6 \n",
      "x = 2 * y + 6\n"
     ]
    }
   ],
   "source": [
    "# Numerical Variables - 2\n",
    "x = 20\n",
    "y = 7\n",
    "z = x % y\n",
    "print(\"x = {}, y = {}, x // y = {}, x % y = {} \".format(x, y, x // y, x % y))\n",
    "print(\"x = {} * y + {}\".format(x // y, x % y))\n"
   ]
  },
  {
   "cell_type": "code",
   "execution_count": 19,
   "metadata": {},
   "outputs": [
    {
     "name": "stdout",
     "output_type": "stream",
     "text": [
      "Alan Turing\n"
     ]
    }
   ],
   "source": [
    "#string operations\n",
    "firstName = 'Alan'\n",
    "lastName = 'Turing'\n",
    "fullName = firstName + ' ' + lastName\n",
    "print(fullName)\n"
   ]
  },
  {
   "cell_type": "code",
   "execution_count": 20,
   "metadata": {},
   "outputs": [
    {
     "name": "stdout",
     "output_type": "stream",
     "text": [
      "a = 3.5 and int(a) = 3\n",
      "b = 12 and float(a) = 12.0\n"
     ]
    }
   ],
   "source": [
    "# Cast Type between Integer and FloatingPointValue\n",
    "a = 3.5\n",
    "print(\"a = {} and int(a) = {}\".format(a, int(a)))\n",
    "b = 12\n",
    "print(\"b = {} and float(a) = {}\".format(b, float(b)))"
   ]
  },
  {
   "cell_type": "code",
   "execution_count": 21,
   "metadata": {},
   "outputs": [
    {
     "name": "stdout",
     "output_type": "stream",
     "text": [
      "20 > 10? True\n",
      "20 == 10? False\n",
      "20 != 10? True\n"
     ]
    }
   ],
   "source": [
    "a = 20 > 10\n",
    "print(\"20 > 10? {}\".format(a))\n",
    "b = 20 == 10\n",
    "print(\"20 == 10? {}\".format(b))\n",
    "c = 20 != 10\n",
    "print(\"20 != 10? {}\".format(c))"
   ]
  },
  {
   "cell_type": "code",
   "execution_count": 22,
   "metadata": {},
   "outputs": [
    {
     "name": "stdout",
     "output_type": "stream",
     "text": [
      "[and]\n",
      "  True\n",
      "  False\n",
      "  False\n",
      "  False\n",
      "[or]\n",
      "  True\n",
      "  True\n",
      "  False\n",
      "  False\n",
      "[not]\n",
      "  False\n",
      "  True\n"
     ]
    }
   ],
   "source": [
    "# Basic logical operations: and, or, not\n",
    "print('[and]')\n",
    "print(' ', True and True)\n",
    "print(' ', True and False)\n",
    "print(' ', False and False)\n",
    "print(' ', False and False)\n",
    "print('[or]')\n",
    "print(' ', True or True)\n",
    "print(' ', True or False)\n",
    "print(' ', False or False)\n",
    "print(' ', False or False)\n",
    "print('[not]')\n",
    "print(' ', not True)\n",
    "print(' ', not False)\n"
   ]
  },
  {
   "cell_type": "code",
   "execution_count": 23,
   "metadata": {},
   "outputs": [
    {
     "name": "stdout",
     "output_type": "stream",
     "text": [
      "False\n",
      "True\n",
      "False\n",
      "True\n",
      "True\n",
      "True\n",
      "True\n"
     ]
    }
   ],
   "source": [
    "# other logical operations\n",
    "print(15 == 30)\n",
    "print(15 != 30)\n",
    "print(15 > 30)\n",
    "print(15 < 30)\n",
    "print(15 <= 30)\n",
    "print(15 <= 15)\n",
    "print(15 >= 15)\n"
   ]
  },
  {
   "cell_type": "code",
   "execution_count": 24,
   "metadata": {},
   "outputs": [
    {
     "name": "stdout",
     "output_type": "stream",
     "text": [
      "-45.6\n",
      "y is non-positive\n"
     ]
    }
   ],
   "source": [
    "x = 2\n",
    "y = 1.1*(x**2) - 15*x - 20\n",
    "print(y)\n",
    "if y > 0:\n",
    " print('y is positive')\n",
    "else:\n",
    " print('y is non-positive')"
   ]
  },
  {
   "cell_type": "code",
   "execution_count": 25,
   "metadata": {},
   "outputs": [
    {
     "name": "stdout",
     "output_type": "stream",
     "text": [
      "0\n",
      "y is zero\n"
     ]
    }
   ],
   "source": [
    "x = 2\n",
    "y= x * 0\n",
    "print(y)\n",
    "if y==0:\n",
    " print('y is zero')\n",
    "elif y>0:\n",
    " print('y is positive')\n",
    "else:\n",
    " print('y is negative')\n"
   ]
  },
  {
   "cell_type": "code",
   "execution_count": 26,
   "metadata": {},
   "outputs": [
    {
     "name": "stdout",
     "output_type": "stream",
     "text": [
      "In range!\n"
     ]
    }
   ],
   "source": [
    "x = 10\n",
    "a, b = -15, 15\n",
    "if x > a and x < b:\n",
    " print('In range!')\n",
    "else:\n",
    " print('Out of range!')\n"
   ]
  },
  {
   "cell_type": "code",
   "execution_count": null,
   "metadata": {},
   "outputs": [],
   "source": [
    "# range(start_value, end_value, step)\n",
    "for i in range(0, 10, 1):\n",
    " print(i)"
   ]
  }
 ],
 "metadata": {
  "kernelspec": {
   "display_name": "Python 3",
   "language": "python",
   "name": "python3"
  },
  "language_info": {
   "codemirror_mode": {
    "name": "ipython",
    "version": 3
   },
   "file_extension": ".py",
   "mimetype": "text/x-python",
   "name": "python",
   "nbconvert_exporter": "python",
   "pygments_lexer": "ipython3",
   "version": "3.7.3"
  }
 },
 "nbformat": 4,
 "nbformat_minor": 2
}
