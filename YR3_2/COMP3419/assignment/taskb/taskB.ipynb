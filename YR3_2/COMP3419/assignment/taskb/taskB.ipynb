{
 "cells": [
  {
   "cell_type": "code",
   "execution_count": 6,
   "metadata": {},
   "outputs": [],
   "source": [
    "import sys\n",
    "import os\n",
    "import cv2\n",
    "import numpy as np\n",
    "import random\n",
    "from matplotlib import pyplot as plt\n",
    "from IPython.display import clear_output\n",
    "path_to_video = 'monkey_TaskB.mov'\n",
    "path_to_background = 'water.mov'\n",
    "%matplotlib inline"
   ]
  },
  {
   "cell_type": "markdown",
   "metadata": {},
   "source": [
    "setup"
   ]
  },
  {
   "cell_type": "code",
   "execution_count": 3,
   "metadata": {},
   "outputs": [
    {
     "name": "stdout",
     "output_type": "stream",
     "text": [
      "background already exists\n"
     ]
    }
   ],
   "source": [
    "if not os.path.isdir(os.path.join(os.getcwd(), 'background')):\n",
    "    os.mkdir(\"background\")\n",
    "else:\n",
    "    print('background already exists')\n",
    "\n",
    "if not os.path.isdir(os.path.join(os.getcwd(), 'composite')):\n",
    "    os.mkdir(\"composite\")\n",
    "else:\n",
    "    print('composite already exists')\n",
    "\n",
    "cap = cv2.VideoCapture('monkey_TaskB.mov')\n",
    "if not cap.isOpened():\n",
    "    print('monkey.mov not opened')\n",
    "    sys.exit(1)\n",
    "length = int(cap.get(cv2.CAP_PROP_FRAME_COUNT))\n",
    "frame_height = cap.get(cv2.CAP_PROP_FRAME_HEIGHT)\n",
    "frame_width = cap.get(cv2.CAP_PROP_FRAME_WIDTH)\n",
    "bgctr = length # The total number of background frames\n",
    "count = 0"
   ]
  },
  {
   "cell_type": "markdown",
   "metadata": {},
   "source": [
    "extract frames from both video"
   ]
  },
  {
   "cell_type": "code",
   "execution_count": 49,
   "metadata": {},
   "outputs": [
    {
     "name": "stdout",
     "output_type": "stream",
     "text": [
      "Video Reach End\n"
     ]
    }
   ],
   "source": [
    "#extract frames from the video, and store in the background folder\n",
    "cap = cv2.VideoCapture(path_to_background)\n",
    "#create_dir_if_not_exists('./background/') # Or you can create it manully\n",
    "if not cap.isOpened():\n",
    "    print('{} not opened'.format(path_to_background))\n",
    "    sys.exit(1)\n",
    "time_length = int(cap.get(cv2.CAP_PROP_FRAME_COUNT))\n",
    "frame_height = cap.get(cv2.CAP_PROP_FRAME_HEIGHT)\n",
    "frame_width = cap.get(cv2.CAP_PROP_FRAME_WIDTH)\n",
    "frame_counter = 0                                             # FRAME_COUNTER\n",
    "while(1):\n",
    "    return_flag, frame = cap.read()  \n",
    "    if not return_flag:\n",
    "        print('Video Reach End')\n",
    "        break\n",
    "    # Main Content - Start\n",
    "    cv2.imshow('VideoWindowTitle-water', frame)\n",
    "    cv2.imwrite('./background/' + 'frame%d.tif' % frame_counter, frame)\n",
    "    frame_counter += 1\n",
    "    # Main Content - End    \n",
    "    if cv2.waitKey(30) & 0xff == ord('q'):\n",
    "        break\n",
    "cap.release()\n",
    "cv2.destroyAllWindows()"
   ]
  },
  {
   "cell_type": "code",
   "execution_count": 8,
   "metadata": {},
   "outputs": [
    {
     "name": "stdout",
     "output_type": "stream",
     "text": [
      "Extracting: 948\n"
     ]
    }
   ],
   "source": [
    "# extract frames from the monkey video, store in the frames folder\n",
    "\n",
    "if not os.path.isdir(os.path.join(os.getcwd(), 'frames')):\n",
    "    os.mkdir(\"frames\")\n",
    "else:\n",
    "    print('frames already exists')\n",
    "\n",
    "if not os.path.isdir(os.path.join(os.getcwd(), 'composite')):\n",
    "    os.mkdir(\"composite\")\n",
    "else:\n",
    "    print('composite already exists')\n",
    "    \n",
    "framenumber = 0\n",
    "framectr = 0\n",
    "omovie = cv2.VideoCapture('monkey_taskB.mov')\n",
    "frame_height = omovie.get(cv2.CAP_PROP_FRAME_HEIGHT)\n",
    "frame_width = omovie.get(cv2.CAP_PROP_FRAME_WIDTH)\n",
    "\n",
    "# Extract the frames from original video\n",
    "while(1):\n",
    "    ret, frame = omovie.read()\n",
    "    if not ret:\n",
    "        break\n",
    "    print('Extracting: %d' % framenumber)\n",
    "    clear_output(wait=True)\n",
    "    cv2.imwrite('frames/%d.tif' % framenumber, frame)\n",
    "    framenumber += 1\n",
    "omovie.release()"
   ]
  },
  {
   "cell_type": "markdown",
   "metadata": {},
   "source": [
    "composite both video's background"
   ]
  },
  {
   "cell_type": "code",
<<<<<<< HEAD
   "execution_count": 57,
   "metadata": {
    "scrolled": true
   },
   "outputs": [
    {
     "ename": "KeyboardInterrupt",
     "evalue": "",
     "output_type": "error",
     "traceback": [
      "\u001b[1;31m---------------------------------------------------------------------------\u001b[0m",
      "\u001b[1;31mKeyboardInterrupt\u001b[0m                         Traceback (most recent call last)",
      "\u001b[1;32m<ipython-input-57-842bb88e67c8>\u001b[0m in \u001b[0;36m<module>\u001b[1;34m\u001b[0m\n\u001b[0;32m     35\u001b[0m             \u001b[1;31m#the pixel is not blue, continue the overwriting\u001b[0m\u001b[1;33m\u001b[0m\u001b[1;33m\u001b[0m\u001b[1;33m\u001b[0m\u001b[0m\n\u001b[0;32m     36\u001b[0m \u001b[1;33m\u001b[0m\u001b[0m\n\u001b[1;32m---> 37\u001b[1;33m                         \u001b[0mbg\u001b[0m\u001b[1;33m[\u001b[0m\u001b[0mx\u001b[0m\u001b[1;33m,\u001b[0m \u001b[0my\u001b[0m\u001b[1;33m]\u001b[0m \u001b[1;33m=\u001b[0m \u001b[0mmonkeyframe\u001b[0m\u001b[1;33m[\u001b[0m\u001b[0mx\u001b[0m\u001b[1;33m,\u001b[0m \u001b[0my\u001b[0m\u001b[1;33m]\u001b[0m\u001b[1;33m\u001b[0m\u001b[1;33m\u001b[0m\u001b[0m\n\u001b[0m\u001b[0;32m     38\u001b[0m \u001b[1;33m\u001b[0m\u001b[0m\n\u001b[0;32m     39\u001b[0m             \u001b[1;31m#elif monkeyframe[x,y][0] >= 0 :\u001b[0m\u001b[1;33m\u001b[0m\u001b[1;33m\u001b[0m\u001b[1;33m\u001b[0m\u001b[0m\n",
      "\u001b[1;31mKeyboardInterrupt\u001b[0m: "
     ]
    }
   ],
=======
   "execution_count": 53,
   "metadata": {
    "scrolled": true
   },
   "outputs": [],
>>>>>>> 4b562a32cf77e7f9851ff45ccaa765c455d6968d
   "source": [
    "BLUE = 80\n",
    "bgctr = length\n",
    "count = 0\n",
    "cap = cv2.VideoCapture('monkey_taskB.mov')\n",
    "if not cap.isOpened():\n",
    "    print('monkey_taskB.movi not opened')\n",
    "    sys.exit(1)\n",
    "length = int(cap.get(cv2.CAP_PROP_FRAME_COUNT))\n",
    "frame_height = cap.get(cv2.CAP_PROP_FRAME_HEIGHT)\n",
    "frame_width = cap.get(cv2.CAP_PROP_FRAME_WIDTH)\n",
    "while(1):\n",
    "    ret, monkeyframe = cap.read()\n",
    "    #resize the monkey image to background size\n",
    "    monkeyframe = cv2.resize(monkeyframe, (320, 240))\n",
    "    if not ret:\n",
    "        break\n",
    "    bg = cv2.imread('background/frame%d.tif' % (count%bgctr))\n",
    "    if bg is None:\n",
    "        print('ooops! no bg found BG/frame%d.tif' % (count%bgctr))\n",
    "        break\n",
    "    # overwrite the background\n",
    "    for x in range(monkeyframe.shape[0]):\n",
    "        for y in range(monkeyframe.shape[1]):\n",
    "            ################  TODO  #################\n",
    "            # replace the corresponding pixels in 'water.mov' with \n",
    "             # non-blue pixels in 'monkey.mov'\n",
    "            \n",
    "            #check if the pixel's blue channel is 'blue'\n",
    "            #openCV use B,G,R\n",
    "            #print(monkeyframe[x,y])\n",
    "            if monkeyframe[x,y][0] <= BLUE : \n",
    "                #if monkeyframe[x,y][1] <= 200 :\n",
    "                 #   if monkeyframe[x,y][2] <= 200 :\n",
    "            #if monkeyframe[x,y][0] <= BLUE: \n",
    "            #the pixel is not blue, continue the overwriting\n",
    "            \n",
    "                        bg[x, y] = monkeyframe[x, y]\n",
    "            \n",
    "            elif monkeyframe[x,y][0] >= 0 : \n",
    "                if monkeyframe[x,y][1] >= 120 :\n",
    "                    if monkeyframe[x,y][2] >= 120 :\n",
    "                            \n",
    "                        bg[x, y] = monkeyframe[x, y]\n",
    "            \n",
    "            #########################################\n",
    "    cv2.imwrite('composite/composite%d.tif' % count, bg)\n",
    "    cv2.putText(img=bg, text='Compositing: %d%%' % int(100*count/length), org=(int(0), int(bg.shape[1] / 2)),\n",
    "                fontFace=cv2.FONT_HERSHEY_DUPLEX, fontScale=0.7,\n",
    "                color=(0, 255, 0))\n",
    "    cv2.imshow('Monkey in water', bg)\n",
    "\n",
    "    count += 1\n",
    "    if cv2.waitKey(30) & 0xff == ord('q'):\n",
    "        break\n",
    "    \n",
    "    if count >= framenumber: \n",
    "        break\n",
    "\n",
    "cap.release()\n",
    "cv2.destroyAllWindows()"
   ]
  },
  {
   "cell_type": "code",
   "execution_count": 55,
   "metadata": {},
   "outputs": [
    {
     "name": "stdout",
     "output_type": "stream",
     "text": [
      "No more frames to be loaded\n"
     ]
    }
   ],
   "source": [
    "#convert the 'composite' folder into a new video\n",
    "frame_load_path = './composite/'\n",
    "path_to_output_video = './new_video.mov'\n",
    "\n",
    "out = cv2.VideoWriter(path_to_output_video, cv2.VideoWriter_fourcc('M', 'J', 'P', 'G'), 10, (320, 240))\n",
    "frame_counter = 0\n",
    "while(1):\n",
    "    img = cv2.imread(frame_load_path + 'composite%d.tif' % frame_counter)\n",
    "    if img is None:\n",
    "        print('No more frames to be loaded')\n",
    "        break;\n",
    "    out.write(img)\n",
    "    frame_counter += 1\n",
    "out.release()\n",
    "cv2.destroyAllWindows()\n"
   ]
  },
  {
   "cell_type": "code",
   "execution_count": null,
   "metadata": {},
   "outputs": [],
   "source": []
  }
 ],
 "metadata": {
  "kernelspec": {
   "display_name": "Python 3",
   "language": "python",
   "name": "python3"
  },
  "language_info": {
   "codemirror_mode": {
    "name": "ipython",
    "version": 3
   },
   "file_extension": ".py",
   "mimetype": "text/x-python",
   "name": "python",
   "nbconvert_exporter": "python",
   "pygments_lexer": "ipython3",
   "version": "3.7.3"
  }
 },
 "nbformat": 4,
 "nbformat_minor": 2
}
