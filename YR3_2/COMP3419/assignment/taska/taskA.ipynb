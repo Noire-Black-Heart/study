{
 "cells": [
  {
   "cell_type": "code",
   "execution_count": 1,
   "metadata": {},
   "outputs": [],
   "source": [
    "import sys\n",
    "import os\n",
    "import cv2\n",
    "import numpy as np\n",
    "import random\n",
    "import math\n",
    "from matplotlib import pyplot as plt\n",
    "path_to_video = 'monkey_TaskA.mov'\n",
    "%matplotlib inline"
   ]
  },
  {
   "cell_type": "markdown",
   "metadata": {},
   "source": [
    "arrow draw function"
   ]
  },
  {
   "cell_type": "code",
   "execution_count": 2,
   "metadata": {},
   "outputs": [],
   "source": [
    "\n",
    "def arrowdraw(img, x1, y1, x2, y2):\n",
    "    radians = math.atan2(x1-x2, y2-y1)\n",
    "    x11 = 0\n",
    "    y11 = 0\n",
    "    x12 = -10\n",
    "    y12 = -10\n",
    "\n",
    "    u11 = 0\n",
    "    v11 = 0\n",
    "    u12 = 10\n",
    "    v12 = -10\n",
    "    \n",
    "    x11_ = x11*math.cos(radians) - y11*math.sin(radians) + x2\n",
    "    y11_ = x11*math.sin(radians) + y11*math.cos(radians) + y2\n",
    "\n",
    "    x12_ = x12 * math.cos(radians) - y12 * math.sin(radians) + x2\n",
    "    y12_ = x12 * math.sin(radians) + y12 * math.cos(radians) + y2\n",
    "    \n",
    "    u11_ = u11 * math.cos(radians) - v11 * math.sin(radians) + x2\n",
    "    v11_ = u11 * math.sin(radians) + v11 * math.cos(radians) + y2\n",
    "\n",
    "    u12_ = u12 * math.cos(radians) - v12 * math.sin(radians) + x2\n",
    "    v12_ = u12 * math.sin(radians) + v12 * math.cos(radians) + y2\n",
    "    img = cv2.line(img, (x1, y1), (x2, y2), (255, 0, 0), 1)\n",
    "    img = cv2.line(img, (int(x11_), int(y11_)), (int(x12_), int(y12_)), \n",
    "    (255, 0, 0), 1)\n",
    "    img = cv2.line(img, (int(u11_), int(v11_)), (int(u12_), int(v12_)), \n",
    "    (255, 0, 0), 1)\n",
    "    \n",
    "    return img\n"
   ]
  },
  {
   "cell_type": "markdown",
   "metadata": {},
   "source": [
    "extract frames from the video"
   ]
  },
  {
   "cell_type": "code",
   "execution_count": 3,
   "metadata": {},
   "outputs": [
    {
     "name": "stdout",
     "output_type": "stream",
     "text": [
      "576.0\n",
      "752\n"
     ]
    }
   ],
   "source": [
    "#extract frames from the video, and store in the background folder\n",
    "cap = cv2.VideoCapture(path_to_video)\n",
    "#create_dir_if_not_exists('./background/') # Or you can create it manully\n",
    "if not cap.isOpened():\n",
    "    print('{} not opened'.format(path_to_video))\n",
    "    sys.exit(1)\n",
    "time_length = int(cap.get(cv2.CAP_PROP_FRAME_COUNT))\n",
    "frame_height = cap.get(cv2.CAP_PROP_FRAME_HEIGHT)\n",
    "frame_width = cap.get(cv2.CAP_PROP_FRAME_WIDTH)\n",
    "frame_counter = 0   \n",
    "\n",
    "\n",
    "\n",
    "print(frame_height)\n",
    "print(time_length)"
   ]
  },
  {
   "cell_type": "code",
<<<<<<< HEAD
<<<<<<< HEAD
   "execution_count": 5,
=======
>>>>>>> 4b562a32cf77e7f9851ff45ccaa765c455d6968d
=======
   "execution_count": 4,
>>>>>>> 4b562a32cf77e7f9851ff45ccaa765c455d6968d
   "metadata": {},
   "outputs": [
    {
     "name": "stdout",
     "output_type": "stream",
     "text": [
      "Video Reach End\n"
     ]
    }
   ],
   "source": [
    "#read frames and store\n",
    "while(1):\n",
    "    return_flag, frame = cap.read()  \n",
    "    if not return_flag:\n",
    "        print('Video Reach End')\n",
    "        break\n",
    "    # Main Content - Start\n",
    "    cv2.imshow('VideoWindowTitle-MonkeyA', frame)\n",
    "    cv2.imwrite('./background/' + 'frame%d.tif' % frame_counter, frame)\n",
    "    frame_counter += 1\n",
    "    # Main Content - End    \n",
    "    if cv2.waitKey(30) & 0xff == ord('q'):\n",
    "        break\n",
    "cap.release()\n",
    "cv2.destroyAllWindows()"
   ]
  },
  {
   "cell_type": "markdown",
   "metadata": {},
   "source": [
    "step 1: define constrants"
   ]
  },
  {
   "cell_type": "code",
<<<<<<< HEAD
<<<<<<< HEAD
   "execution_count": 4,
=======
>>>>>>> 4b562a32cf77e7f9851ff45ccaa765c455d6968d
=======
   "execution_count": 5,
>>>>>>> 4b562a32cf77e7f9851ff45ccaa765c455d6968d
   "metadata": {},
   "outputs": [
    {
     "name": "stdout",
     "output_type": "stream",
     "text": [
      "720\n",
      "540\n"
     ]
    }
   ],
   "source": [
    "k = 45\n",
    "halfk = (int)(k / 2 + 1)\n",
    "block_num = frame_height * frame_width / (k**2)\n",
    "\n",
    "\n",
    "\n",
    "n = np.zeros(shape = (3,3))\n",
    "\n",
    "\n",
    "#limit for the image to fit k\n",
    "limitx = (int)(frame_width / k) * k\n",
    "limity = (int)(frame_height / k) * k\n",
    "\n",
    "\n",
    "\n",
    "\n",
    "print(limitx)\n",
    "print(limity)\n",
    "\n",
    "\n"
   ]
  },
  {
   "cell_type": "markdown",
   "metadata": {},
   "source": [
    "step 2: calculate SSD for each block in each 2frame"
   ]
  },
  {
   "cell_type": "code",
<<<<<<< HEAD
<<<<<<< HEAD
   "execution_count": 7,
=======
>>>>>>> 4b562a32cf77e7f9851ff45ccaa765c455d6968d
=======
   "execution_count": 6,
>>>>>>> 4b562a32cf77e7f9851ff45ccaa765c455d6968d
   "metadata": {},
   "outputs": [],
   "source": [
    "#helper function for calculating SSD given 2 matrix\n",
    "# x = np.array([[1, 3],\n",
    "#              [2, 4]])\n",
    "\n",
    "# y = np.array([[6, 4],\n",
    "#              [4, 6]])\n",
    "\n",
    "# q = np.array([[3, 2],\n",
    "#              [4, 6]])\n",
    "\n",
    "# print(y)\n",
    "\n",
    "def calcSSD (base, template):\n",
    "    \n",
    "    diff = (base-template)**2\n",
    "    ssd = np.sum(diff)\n",
    "    ssd = math.sqrt(ssd)\n",
    "    return ssd\n",
    "\n",
    "\n",
    "\n",
    "\n",
    "#helper function for padding the image\n",
    "def preprocessing_padding_helper(img, pad_size):\n",
    "        # specify the pading for three dimensions\n",
    "        # ((1,1), (1,1), (0,0)) => 1 padding for left and right, \n",
    "        #                          1 padding for top and bottom, \n",
    "        #                          no padding for color channels\n",
    "        padding_3_dims = ((pad_size, pad_size), (pad_size, pad_size), (0, 0))\n",
    "        img_padded = np.pad(img, padding_3_dims, 'constant', constant_values=255)\n",
    "        #print('*Padding: FROM ', img.shape,' TO ',img_padded.shape)\n",
    "        return img_padded\n"
   ]
  },
  {
   "cell_type": "code",
   "execution_count": 8,
   "metadata": {
    "scrolled": false
   },
   "outputs": [
    {
     "name": "stdout",
     "output_type": "stream",
     "text": [
      "motion visualisation is all done\n"
     ]
    }
   ],
   "source": [
    "def motion(counti, countii):\n",
    "\n",
    "    fi = cv2.imread('background/frame%d.tif' % counti)\n",
    "    fii = cv2.imread('background/frame%d.tif' % countii)\n",
    "    fii_pad = preprocessing_padding_helper(fii, k)\n",
    "\n",
    "    processed_img = np.zeros(fi.shape)\n",
    "    #print(processed_img)\n",
    "\n",
    "    fii_pad_sliced = fii_pad[0: 0+k, 0 : 0+k]\n",
    "\n",
    "    fi_sliced = fi[0: 0+k, 0 : 0+k] #[limity, limitx]\n",
    "\n",
    "    ssd = calcSSD(fi_sliced, fii_pad_sliced)\n",
    "\n",
    "    fi_ssdmap = getssdmap(fi, fii_pad)\n",
    "\n",
    "    mapx = 0\n",
    "\n",
    "    for x in range(halfk, limitx, k):\n",
    "        mapy = 0 #m[mapx][mapy] is the ssd position of each block\n",
    "        for y in range(halfk, limity, k): #fi[x][y] is the centre of each block\n",
    "            if(fi_ssdmap[mapx][mapy] == (-1,-1)):\n",
    "                 #print(fi_ssdmap[mapx][mapy])\n",
    "                 mapy = mapy +1\n",
    "                 continue\n",
<<<<<<< HEAD
<<<<<<< HEAD
    "            fi = arrowdraw(fi, x, y, x + (fi_ssdmap[mapx][mapy][1] -1)*k, y + (fi_ssdmap[mapx][mapy][0] -1)*k)\n",
=======
>>>>>>> 4b562a32cf77e7f9851ff45ccaa765c455d6968d
=======
    "            fi = arrowdraw(fi, x, y, x + (fi_ssdmap[mapx][mapy][0] -1)*k, y + (fi_ssdmap[mapx][mapy][1] -1)*k)\n",
>>>>>>> 4b562a32cf77e7f9851ff45ccaa765c455d6968d
    "            mapy = mapy +1\n",
    "        mapx = mapx +1\n",
    "    \n",
    "    return fi\n",
    "    #print(ssd)\n",
    "\n",
    "    #for x in range(0, processed_img.shape[0], 1):\n",
    "        #print(x)\n",
    "    #    for y in range(0, processed_img.shape[1], 1):   #(x+halfk,y+halfk) is mid-point for each block\n",
    "\n",
    "    #        processed_img[x][y] = fii_pad[x+k][y+k]\n",
    "\n",
    "\n",
    "\n",
    "def getssdmap(fi, fii_pad):\n",
    "    #read the first frame fi\n",
    "#     fi = cv2.imread('background/frame%d.tif' % counti)\n",
    "#     fii = cv2.imread('background/frame%d.tif' % countii)\n",
    "#     fi = preprocessing_padding_helper(fi, k)\n",
    "     #ssdcount = 0\n",
    "     \n",
    "     #map array for storing the SSD\n",
    "     mx = (int)(frame_width / k)\n",
    "     my = (int)(frame_height / k)\n",
    "\n",
    "     m = np.zeros(shape = (mx, my), dtype=object)\n",
    "        \n",
    "     ma = 0\n",
    "    \n",
    "     for x in range(0, limitx, k):\n",
    "         mb = 0\n",
    "         for y in range(0, limity, k):   #(x+halfk,y+halfk) is mid-point for each block\n",
    "            \n",
    "            #this is the fi block for current iteration\n",
    "            fi_sliced = fi[y: y+k, x : x+k]\n",
    "            #fii blocks\n",
    "            fii_pad_sliced1 = fii_pad[y:y+k, x:x+k]\n",
    "            fii_pad_sliced2 = fii_pad[y:y+k, x+k:x+2*k]\n",
    "            fii_pad_sliced3 = fii_pad[y:y+k, x+2*k:x+3*k]\n",
    "            fii_pad_sliced4 = fii_pad[y+k:y+2*k, x:x+k]\n",
    "            fii_pad_sliced5 = fii_pad[y+k:y+2*k, x+k:x+2*k]\n",
    "            fii_pad_sliced6 = fii_pad[y+k:y+2*k, x+2*k:x+3*k]\n",
    "            fii_pad_sliced7 = fii_pad[y+2*k:y+3*k, x:x+k]\n",
    "            fii_pad_sliced8 = fii_pad[y+2*k:y+3*k, x+k:x+2*k]\n",
    "            fii_pad_sliced9 = fii_pad[y+2*k:y+3*k, x+2*k:x+3*k]\n",
    "            \n",
    "            #p is a 3*3 matrix that shows the surrounding SSD for each block. if the min SSD is too small, we abandon it\n",
    "            p = np.array([[calcSSD(fi_sliced, fii_pad_sliced1), calcSSD(fi_sliced, fii_pad_sliced2), calcSSD(fi_sliced, fii_pad_sliced3)], \n",
    "                          [calcSSD(fi_sliced, fii_pad_sliced4), calcSSD(fi_sliced, fii_pad_sliced5), calcSSD(fi_sliced, fii_pad_sliced6)],\n",
    "                        [calcSSD(fi_sliced, fii_pad_sliced7), calcSSD(fi_sliced, fii_pad_sliced8), calcSSD(fi_sliced, fii_pad_sliced9)] ])\n",
    "            \n",
    "            #print(p)\n",
    "            \n",
    "            #if the difference is between same colour\n",
    "            if np.min(p) < 300: \n",
    "                minssd_position = (-1, -1)\n",
    "            \n",
    "            else: \n",
    "                minssd_position = np.unravel_index(p.argmin(), p.shape) #(y*k,x*k)\n",
    "            \n",
    "            \n",
    "            \n",
    "            #load the minssd position into the 16*12 array, therefore getting the arrow map\n",
    "            \n",
    "            m[ma][mb] = minssd_position\n",
    "            \n",
    "            mb = mb+1\n",
    "            #ssdcount = ssdcount+1\n",
    "            \n",
    "         ma = ma+1\n",
    "     \n",
    "     #print( m)\n",
    "     return m #after this, the M map get for this frame, means that, 0,0 is left-up for the block at m(a,b), and 1,0 is left-mid. \n",
    "    \n",
    "    \n",
    "    \n",
    "     #print(m)\n",
    "     #print('qwe')\n",
    "            \n",
    "            \n",
    "            \n",
    "            \n",
    "            \n",
    "            \n",
    "            #print(p)\n",
    "            #print(minssd_position[1])\n",
    "            #print(ssdcount)\n",
    "            \n",
    "            \n",
    "            \n",
    "            \n",
    "            \n",
    "            \n",
    "#             ssd = 0\n",
    "            \n",
    "\n",
    "                \n",
    "            \n",
    "            \n",
    "#             print(x, y)\n",
    "    \n",
    "    \n",
    "#print(fi)\n",
    "#processed_img = np.uint8(processed_img)\n",
    "#cv2.imshow('cyka', fi)\n",
    "#cv2.imshow('cyka', fii_pad_sliced)\n",
    "#print(processed_img)\n",
    "#cv2.imshow('cyka', fii)\n",
    "#cv2.waitKey(0)\n",
    "\n",
    "\n",
    "for x in range(0, time_length -1, 2):\n",
    "    fi = motion(x, x+1)\n",
    "    j = x+1\n",
    "    fii = cv2.imread('background/frame%d.tif' % j)\n",
    "    #fii = cv2.imread('background/frame%d.tif' % countii)\n",
    "    cv2.imwrite('composite/composite%d.tif' % x, fi)\n",
    "    cv2.imwrite('composite/composite%d.tif' % j, fii)\n",
    "print('motion visualisation is all done')\n"
   ]
  },
  {
   "cell_type": "code",
   "execution_count": 9,
   "metadata": {},
   "outputs": [
    {
     "name": "stdout",
     "output_type": "stream",
     "text": [
      "No more frames to be loaded\n"
     ]
    }
   ],
   "source": [
    "#convert the 'composite' folder into a new video\n",
    "frame_load_path = './composite/'\n",
    "path_to_output_video = './new_video.mov'\n",
    "\n",
    "out = cv2.VideoWriter(path_to_output_video, cv2.VideoWriter_fourcc('M', 'J', 'P', 'G'), 10, (int(frame_width), int(frame_height)))\n",
    "frame_counter = 0\n",
    "while(1):\n",
    "    img = cv2.imread(frame_load_path + 'composite%d.tif' % frame_counter)\n",
    "    if img is None:\n",
    "        print('No more frames to be loaded')\n",
    "        break;\n",
    "    out.write(img)\n",
    "    frame_counter += 1\n",
    "out.release()\n",
    "cv2.destroyAllWindows()\n"
   ]
  },
  {
   "cell_type": "code",
   "execution_count": null,
   "metadata": {},
   "outputs": [],
   "source": []
  }
 ],
 "metadata": {
  "kernelspec": {
   "display_name": "Python 3",
   "language": "python",
   "name": "python3"
  },
  "language_info": {
   "codemirror_mode": {
    "name": "ipython",
    "version": 3
   },
   "file_extension": ".py",
   "mimetype": "text/x-python",
   "name": "python",
   "nbconvert_exporter": "python",
   "pygments_lexer": "ipython3",
   "version": "3.7.3"
  }
 },
 "nbformat": 4,
 "nbformat_minor": 2
}
