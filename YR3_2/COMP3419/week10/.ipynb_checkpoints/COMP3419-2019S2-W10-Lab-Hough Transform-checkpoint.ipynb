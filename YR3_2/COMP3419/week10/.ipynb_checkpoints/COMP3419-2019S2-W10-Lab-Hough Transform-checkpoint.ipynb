{
 "cells": [
  {
   "cell_type": "markdown",
   "metadata": {
    "collapsed": true
   },
   "source": [
    "# Package Required"
   ]
  },
  {
   "cell_type": "code",
   "execution_count": 1,
   "metadata": {},
   "outputs": [],
   "source": [
    "from scipy.misc import imread, imresize\n",
    "from matplotlib import pyplot as plt\n",
    "from scipy.ndimage.morphology import binary_dilation, binary_erosion\n",
    "from numpy import array\n",
    "import numpy as np\n",
    "import math\n",
    "from PIL import Image, ImageDraw"
   ]
  },
  {
   "cell_type": "markdown",
   "metadata": {},
   "source": [
    "# Read Image and Preprocessing"
   ]
  },
  {
   "cell_type": "code",
   "execution_count": 2,
   "metadata": {},
   "outputs": [
    {
     "name": "stdout",
     "output_type": "stream",
     "text": [
      "(276, 363)\n"
     ]
    },
    {
     "name": "stderr",
     "output_type": "stream",
     "text": [
      "/home/chaoyi/anaconda3/lib/python3.7/site-packages/ipykernel_launcher.py:1: DeprecationWarning: `imread` is deprecated!\n",
      "`imread` is deprecated in SciPy 1.0.0, and will be removed in 1.2.0.\n",
      "Use ``imageio.imread`` instead.\n",
      "  \"\"\"Entry point for launching an IPython kernel.\n"
     ]
    },
    {
     "data": {
      "image/png": "[encoded data removed]",
      "text/plain": [
       "<Figure size 432x288 with 1 Axes>"
      ]
     },
     "metadata": {
      "needs_background": "light"
     },
     "output_type": "display_data"
    }
   ],
   "source": [
    "img = imread('W10LabData/binary.png')\n",
    "gray= np.uint8(0.212670 * img[:,:,0] + 0.715160 * img[:,:,1] + 0.072169 * img[:,:,2])\n",
    "gray[gray > 127] = 255\n",
    "gray[gray < 128] = 0\n",
    "binarized = gray\n",
    "# dilation and erosion are applied multiple times to join the two parallel lines and also remove the jagging\n",
    "binarized = binary_erosion(binary_erosion(binary_erosion(binary_dilation(binary_dilation(binarized)))))\n",
    "print(binarized.shape)\n",
    "plt.imshow(binarized, cmap='gray')\n",
    "plt.show()"
   ]
  },
  {
   "cell_type": "markdown",
   "metadata": {},
   "source": [
    "# Hough Transform (Week10 Lab Exercise Submission)"
   ]
  },
  {
   "cell_type": "code",
   "execution_count": null,
   "metadata": {},
   "outputs": [],
   "source": [
    "# Submission info - reply them with your name & unikey\n",
    "studentname = 'StudentName'\n",
    "unikey = 'Unikey'\n",
    "\n",
    "# TODO: Complete Hough Transform below (please refer to lab sheet for steps)\n",
    "# some variable you may want to use: [binarized]\n",
    "\n",
    "\n",
    "# support you name your hough_transfrom_matrix as [H], then you can do followings\n",
    "print('HoughTransform_Matrix.shape=', H.shape)        \n",
    "plt.imshow(H)\n",
    "plt.show()"
   ]
  },
  {
   "cell_type": "code",
   "execution_count": null,
   "metadata": {},
   "outputs": [],
   "source": [
    "def scale_H_for_visualization(H):\n",
    "    # H is too thin to be visualized, so we prepared this function for you to rescale it for a better visualization result\n",
    "    return imresize(H, (H.shape[0], H.shape[1] * 20))\n",
    "plt.title(\"%s(%s)'s Hough Transform Matrix H\"%(studentname, unikey))\n",
    "plt.imshow(scale_H_for_visualization(H))\n",
    "plt.show()\n",
    "print(\"Please right click on the image generated above and save it for your submission.\")"
   ]
  },
  {
   "cell_type": "markdown",
   "metadata": {},
   "source": [
    "# Next Step: Line Detection"
   ]
  },
  {
   "cell_type": "code",
   "execution_count": null,
   "metadata": {},
   "outputs": [],
   "source": [
    "# Complete your code here"
   ]
  },
  {
   "cell_type": "markdown",
   "metadata": {},
   "source": [
    "# Extension: Inverse Hough Transform"
   ]
  },
  {
   "cell_type": "code",
   "execution_count": null,
   "metadata": {},
   "outputs": [],
   "source": [
    "# Complete your code here"
   ]
  }
 ],
 "metadata": {
  "kernelspec": {
   "display_name": "Python 3",
   "language": "python",
   "name": "python3"
  },
  "language_info": {
   "codemirror_mode": {
    "name": "ipython",
    "version": 3
   },
   "file_extension": ".py",
   "mimetype": "text/x-python",
   "name": "python",
   "nbconvert_exporter": "python",
   "pygments_lexer": "ipython3",
   "version": "3.7.3"
  }
 },
 "nbformat": 4,
 "nbformat_minor": 2
}
