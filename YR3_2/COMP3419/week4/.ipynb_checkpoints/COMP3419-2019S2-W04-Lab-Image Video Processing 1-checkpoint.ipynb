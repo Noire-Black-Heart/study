{
 "cells": [
  {
   "cell_type": "code",
   "execution_count": 1,
   "metadata": {},
   "outputs": [
    {
     "ename": "ModuleNotFoundError",
     "evalue": "No module named 'cv2'",
     "output_type": "error",
     "traceback": [
      "\u001b[1;31m---------------------------------------------------------------------------\u001b[0m",
      "\u001b[1;31mModuleNotFoundError\u001b[0m                       Traceback (most recent call last)",
      "\u001b[1;32m<ipython-input-1-7d4cd8648768>\u001b[0m in \u001b[0;36m<module>\u001b[1;34m\u001b[0m\n\u001b[0;32m      1\u001b[0m \u001b[1;32mimport\u001b[0m \u001b[0msys\u001b[0m\u001b[1;33m\u001b[0m\u001b[1;33m\u001b[0m\u001b[0m\n\u001b[0;32m      2\u001b[0m \u001b[1;32mimport\u001b[0m \u001b[0mos\u001b[0m\u001b[1;33m\u001b[0m\u001b[1;33m\u001b[0m\u001b[0m\n\u001b[1;32m----> 3\u001b[1;33m \u001b[1;32mimport\u001b[0m \u001b[0mcv2\u001b[0m\u001b[1;33m\u001b[0m\u001b[1;33m\u001b[0m\u001b[0m\n\u001b[0m\u001b[0;32m      4\u001b[0m \u001b[1;32mimport\u001b[0m \u001b[0mnumpy\u001b[0m \u001b[1;32mas\u001b[0m \u001b[0mnp\u001b[0m\u001b[1;33m\u001b[0m\u001b[1;33m\u001b[0m\u001b[0m\n\u001b[0;32m      5\u001b[0m \u001b[1;32mimport\u001b[0m \u001b[0mrandom\u001b[0m\u001b[1;33m\u001b[0m\u001b[1;33m\u001b[0m\u001b[0m\n",
      "\u001b[1;31mModuleNotFoundError\u001b[0m: No module named 'cv2'"
     ]
    }
   ],
   "source": [
    "import sys\n",
    "import os\n",
    "import cv2\n",
    "import numpy as np\n",
    "import random\n",
    "from matplotlib import pyplot as plt\n",
    "path_to_video = 'W4LabData/Quadrangle.mov'\n",
    "%matplotlib inline"
   ]
  },
  {
   "cell_type": "markdown",
   "metadata": {},
   "source": [
    "##### Some useful/advanced opencv2 online resources on video processing (for your interests only):\n",
    "https://docs.opencv.org/3.0-beta/doc/py_tutorials/py_gui/py_video_display/py_video_display.html"
   ]
  },
  {
   "cell_type": "code",
   "execution_count": 2,
   "metadata": {},
   "outputs": [
    {
     "ename": "error",
     "evalue": "OpenCV(3.4.2) /tmp/build/80754af9/opencv-suite_1535558553474/work/modules/highgui/src/window.cpp:632: error: (-2:Unspecified error) The function is not implemented. Rebuild the library with Windows, GTK+ 2.x or Carbon support. If you are on Ubuntu or Debian, install libgtk2.0-dev and pkg-config, then re-run cmake or configure script in function 'cvShowImage'\n",
     "output_type": "error",
     "traceback": [
      "\u001b[0;31m---------------------------------------------------------------------------\u001b[0m",
      "\u001b[0;31merror\u001b[0m                                     Traceback (most recent call last)",
      "\u001b[0;32m<ipython-input-2-1a0deb425fbd>\u001b[0m in \u001b[0;36m<module>\u001b[0;34m\u001b[0m\n\u001b[1;32m     18\u001b[0m \u001b[0;34m\u001b[0m\u001b[0m\n\u001b[1;32m     19\u001b[0m     \u001b[0;31m# Main Content - Start\u001b[0m\u001b[0;34m\u001b[0m\u001b[0;34m\u001b[0m\u001b[0;34m\u001b[0m\u001b[0m\n\u001b[0;32m---> 20\u001b[0;31m     \u001b[0mcv2\u001b[0m\u001b[0;34m.\u001b[0m\u001b[0mimshow\u001b[0m\u001b[0;34m(\u001b[0m\u001b[0;34m'VideoWindowTitle-Quadrangle'\u001b[0m\u001b[0;34m,\u001b[0m \u001b[0mframe\u001b[0m\u001b[0;34m)\u001b[0m\u001b[0;34m\u001b[0m\u001b[0;34m\u001b[0m\u001b[0m\n\u001b[0m\u001b[1;32m     21\u001b[0m     \u001b[0;31m# Main Content - End\u001b[0m\u001b[0;34m\u001b[0m\u001b[0;34m\u001b[0m\u001b[0;34m\u001b[0m\u001b[0m\n\u001b[1;32m     22\u001b[0m \u001b[0;34m\u001b[0m\u001b[0m\n",
      "\u001b[0;31merror\u001b[0m: OpenCV(3.4.2) /tmp/build/80754af9/opencv-suite_1535558553474/work/modules/highgui/src/window.cpp:632: error: (-2:Unspecified error) The function is not implemented. Rebuild the library with Windows, GTK+ 2.x or Carbon support. If you are on Ubuntu or Debian, install libgtk2.0-dev and pkg-config, then re-run cmake or configure script in function 'cvShowImage'\n"
     ]
    }
   ],
   "source": [
    "# Capture Video and represent it as a object\n",
    "cap = cv2.VideoCapture(path_to_video)\n",
    "# Check whether video is captured correctly by cv2\n",
    "if not cap.isOpened():\n",
    "    print('{} not opened'.format(path_to_video))\n",
    "    sys.exit(1)\n",
    "# Use cv2 to fetch three important variables\n",
    "time_length = int(cap.get(cv2.CAP_PROP_FRAME_COUNT))\n",
    "frame_height = cap.get(cv2.CAP_PROP_FRAME_HEIGHT)\n",
    "frame_width = cap.get(cv2.CAP_PROP_FRAME_WIDTH)\n",
    "# Use for loop to have access to video frame by frame\n",
    "while(1):\n",
    "    return_flag, frame = cap.read()  \n",
    "    if not return_flag:\n",
    "        # return_flag=False when the video ends\n",
    "        print('Video Reach End')\n",
    "        break\n",
    "        \n",
    "    # Main Content - Start\n",
    "    cv2.imshow('VideoWindowTitle-Quadrangle', frame)\n",
    "    # Main Content - End\n",
    "    \n",
    "    # cv2.waitKey(30) - delay for 30 milliseconds and return a value to indicate whether this step is successful\n",
    "    # 0xff == ord('q') - out of scope of this course. Don't worry.\n",
    "    if cv2.waitKey(30) & 0xff == ord('q'):\n",
    "        break\n",
    "# Securely release video and close windows\n",
    "cap.release()\n",
    "cv2.destroyAllWindows()"
   ]
  },
  {
   "cell_type": "markdown",
   "metadata": {},
   "source": [
    "### A standard procedure to process video via Opencv"
   ]
  },
  {
   "cell_type": "code",
   "execution_count": null,
   "metadata": {},
   "outputs": [],
   "source": [
    "cap = cv2.VideoCapture(path_to_video)\n",
    "if not cap.isOpened():\n",
    "    print('{} not opened'.format(path_to_video))\n",
    "    sys.exit(1)\n",
    "time_length = int(cap.get(cv2.CAP_PROP_FRAME_COUNT))\n",
    "frame_height = cap.get(cv2.CAP_PROP_FRAME_HEIGHT)\n",
    "frame_width = cap.get(cv2.CAP_PROP_FRAME_WIDTH)\n",
    "while(1):\n",
    "    return_flag, frame = cap.read()  \n",
    "    if not return_flag:\n",
    "        print('Video Reach End')\n",
    "        break\n",
    "        \n",
    "    # Main Content - Start\n",
    "    cv2.imshow('VideoWindowTitle-Quadrangle', frame)\n",
    "    # Main Content - End\n",
    "\n",
    "    if cv2.waitKey(30) & 0xff == ord('q'):\n",
    "        break\n",
    "cap.release()\n",
    "cv2.destroyAllWindows()"
   ]
  },
  {
   "cell_type": "markdown",
   "metadata": {},
   "source": [
    "### 4.2 Extract Frames from a Video"
   ]
  },
  {
   "cell_type": "code",
   "execution_count": null,
   "metadata": {},
   "outputs": [],
   "source": [
    "frame_save_path = './frames/'"
   ]
  },
  {
   "cell_type": "code",
   "execution_count": null,
   "metadata": {},
   "outputs": [],
   "source": [
    "def create_dir_if_not_exists(directory):\n",
    "    if not os.path.exists(directory):\n",
    "        os.makedirs(directory)"
   ]
  },
  {
   "cell_type": "code",
   "execution_count": null,
   "metadata": {},
   "outputs": [],
   "source": [
    "cap = cv2.VideoCapture(path_to_video)\n",
    "create_dir_if_not_exists(frame_save_path) # Or you can create it manully\n",
    "if not cap.isOpened():\n",
    "    print('{} not opened'.format(path_to_video))\n",
    "    sys.exit(1)\n",
    "time_length = int(cap.get(cv2.CAP_PROP_FRAME_COUNT))\n",
    "frame_height = cap.get(cv2.CAP_PROP_FRAME_HEIGHT)\n",
    "frame_width = cap.get(cv2.CAP_PROP_FRAME_WIDTH)\n",
    "frame_counter = 0                                             # FRAME_COUNTER\n",
    "while(1):\n",
    "    return_flag, frame = cap.read()  \n",
    "    if not return_flag:\n",
    "        print('Video Reach End')\n",
    "        break\n",
    "    # Main Content - Start\n",
    "    cv2.imshow('VideoWindowTitle-Quadrangle', frame)\n",
    "    cv2.imwrite(frame_save_path + 'frame%d.tif' % frame_counter, frame)\n",
    "    frame_counter += 1\n",
    "    # Main Content - End    \n",
    "    if cv2.waitKey(30) & 0xff == ord('q'):\n",
    "        break\n",
    "cap.release()\n",
    "cv2.destroyAllWindows()"
   ]
  },
  {
   "cell_type": "markdown",
   "metadata": {},
   "source": [
    "### Convert Frame Sequence to Video"
   ]
  },
  {
   "cell_type": "code",
   "execution_count": null,
   "metadata": {},
   "outputs": [],
   "source": [
    "frame_load_path = './frames/'\n",
    "path_to_output_video = './new_video.mov'"
   ]
  },
  {
   "cell_type": "code",
   "execution_count": null,
   "metadata": {},
   "outputs": [],
   "source": [
    "out = cv2.VideoWriter(path_to_output_video, cv2.VideoWriter_fourcc('M', 'J', 'P', 'G'), 10, (int(frame_width), int(frame_height)))\n",
    "frame_counter = 0\n",
    "while(1):\n",
    "    img = cv2.imread(frame_load_path + 'frame%d.tif' % frame_counter)\n",
    "    if img is None:\n",
    "        print('No more frames to be loaded')\n",
    "        break;\n",
    "    out.write(img)\n",
    "    frame_counter += 1\n",
    "out.release()\n",
    "cv2.destroyAllWindows()"
   ]
  },
  {
   "cell_type": "markdown",
   "metadata": {},
   "source": [
    "### 4.3 Video Compositing by Background Replacement"
   ]
  },
  {
   "cell_type": "markdown",
   "metadata": {},
   "source": [
    "#### Setup"
   ]
  },
  {
   "cell_type": "code",
   "execution_count": null,
   "metadata": {},
   "outputs": [],
   "source": [
    "if not os.path.isdir(os.path.join(os.getcwd(), 'background')):\n",
    "    os.mkdir(\"background\")\n",
    "else:\n",
    "    print('background already exists')\n",
    "\n",
    "if not os.path.isdir(os.path.join(os.getcwd(), 'composite')):\n",
    "    os.mkdir(\"composite\")\n",
    "else:\n",
    "    print('composite already exists')\n",
    "\n",
    "cap = cv2.VideoCapture('W4LabData/Quadrangle.mov')\n",
    "if not cap.isOpened():\n",
    "    print('Quadrangle.mov not opened')\n",
    "    sys.exit(1)\n",
    "length = int(cap.get(cv2.CAP_PROP_FRAME_COUNT))\n",
    "frame_height = cap.get(cv2.CAP_PROP_FRAME_HEIGHT)\n",
    "frame_width = cap.get(cv2.CAP_PROP_FRAME_WIDTH)\n",
    "bgctr = 1 # The total number of background frames\n",
    "count = 0"
   ]
  },
  {
   "cell_type": "markdown",
   "metadata": {},
   "source": [
    "#### 4.3.1 Extract frames from background video"
   ]
  },
  {
   "cell_type": "code",
   "execution_count": null,
   "metadata": {},
   "outputs": [],
   "source": [
    "################  TODO  #################\n",
    "# Capture the frames from 'Quadrangle.mov' and store in\n",
    "# 'background' folder"
   ]
  },
  {
   "cell_type": "markdown",
   "metadata": {},
   "source": [
    "#### 4.3.2 Composite contents from both videos"
   ]
  },
  {
   "cell_type": "code",
   "execution_count": null,
   "metadata": {},
   "outputs": [],
   "source": [
    "BLUE = 120\n",
    "bgctr = count\n",
    "count = 0\n",
    "cap = cv2.VideoCapture('W4LabData/monkey.avi')\n",
    "if not cap.isOpened():\n",
    "    print('monkey.avi not opened')\n",
    "    sys.exit(1)\n",
    "length = int(cap.get(cv2.CAP_PROP_FRAME_COUNT))\n",
    "frame_height = cap.get(cv2.CAP_PROP_FRAME_HEIGHT)\n",
    "frame_width = cap.get(cv2.CAP_PROP_FRAME_WIDTH)\n",
    "while(1):\n",
    "    ret, monkeyframe = cap.read()\n",
    "    if not ret:\n",
    "        break\n",
    "    bg = cv2.imread('background/frame%d.tif' % (count%bgctr))\n",
    "    if bg is None:\n",
    "        print('ooops! no bg found BG/frame%d.tif' % (count%bgctr))\n",
    "        break\n",
    "    # overwrite the background\n",
    "    for x in range(monkeyframe.shape[0]):\n",
    "        for y in range(monkeyframe.shape[1]):\n",
    "            ################  TODO  #################\n",
    "            # replace the corresponding pixels in 'Quadrangle.mov' with \n",
    "             # non-blue pixels in 'monkey.avi'\n",
    "\n",
    "            #########################################\n",
    "    cv2.imwrite('composite/composite%d.tif' % count, bg)\n",
    "    cv2.putText(img=bg, text='Compositing: %d%%' % int(100*count/length), org=(int(0), int(bg.shape[1] / 2)),\n",
    "                fontFace=cv2.FONT_HERSHEY_DUPLEX, fontScale=0.7,\n",
    "                color=(0, 255, 0))\n",
    "    cv2.imshow('Monkey in Quadrangle', bg)\n",
    "\n",
    "    count += 1\n",
    "    if cv2.waitKey(30) & 0xff == ord('q'):\n",
    "        break\n",
    "\n",
    "cap.release()\n",
    "cv2.destroyAllWindows()"
   ]
  },
  {
   "cell_type": "markdown",
   "metadata": {},
   "source": [
    "#### Convert the composited frame sequence into video"
   ]
  },
  {
   "cell_type": "code",
   "execution_count": null,
   "metadata": {},
   "outputs": [],
   "source": [
    "################  TODO  #################\n",
    "# Read the composited frames from 'composite' folder\n",
    "# and covert them into a single output video"
   ]
  },
  {
   "cell_type": "markdown",
   "metadata": {},
   "source": [
    "### Video Compositing by Background Replacement - Week4 Lab Exercise Submission\n",
    "You can now use the generate_results() function below to generate your outputs for submission. "
   ]
  },
  {
   "cell_type": "code",
   "execution_count": null,
   "metadata": {},
   "outputs": [],
   "source": [
    "'''\n",
    "    generate_results function is a helper function for you to generate\n",
    "    the output images of lab exercise submission\n",
    "    - Function Input: \n",
    "            -            wk:           int, indicates a specific week's lab exercise\n",
    "            -          name:           str, the name of the student\n",
    "            -           SID:           int, the SID of the student\n",
    "            -  output_video:           str, the path to output_video\n",
    "\n",
    "    - Function Usage:\n",
    "            - Supply all the arguments with the correct types and a result image\n",
    "              will be generated.\n",
    "    - Tips:\n",
    "            - You can right click the result image plot to save the image or \n",
    "              you can take a screenshoot for the submission.\n",
    "'''\n",
    "def generate_results(wk, name, SID, output_video):\n",
    "    cap = cv2.VideoCapture(output_video)\n",
    "    random_frames = []\n",
    "    if not cap.isOpened():\n",
    "        print('%s not opened' % output_video.split('/')[-1])\n",
    "        sys.exit(1)\n",
    "\n",
    "    frame_count = int(cap.get(cv2.CAP_PROP_FRAME_COUNT))\n",
    "    x = cap.get(cv2.CAP_PROP_FRAME_HEIGHT)\n",
    "    y = cap.get(cv2.CAP_PROP_FRAME_WIDTH)\n",
    "    while x > 10:\n",
    "        x /= (x / 10)\n",
    "        y /= (y / 10)\n",
    "    \n",
    "    for i in range(3):\n",
    "        random_frames.append(random.randint(1, frame_count))\n",
    "        \n",
    "    fig, axs = plt.subplots(1, 3, figsize=(x,y))\n",
    "        \n",
    "    count = 0\n",
    "    output_count = 0\n",
    "    while(1):\n",
    "        ret, frame = cap.read()\n",
    "        if not ret:\n",
    "            break\n",
    "        if count in random_frames:\n",
    "            frame_m = frame.copy()\n",
    "            frame_R = frame[:,:,2]\n",
    "            frame_B = frame[:,:,0]\n",
    "            frame_m[:,:,2] = frame_B\n",
    "            frame_m[:,:,0] = frame_R\n",
    "            frame = np.uint8(frame_m)\n",
    "\n",
    "            axs[output_count].imshow(frame_m)\n",
    "            axs[output_count].text(0.5,-0.1, 'Composite frame: ' + str(count), size=12, ha=\"center\", transform=axs[output_count].transAxes)\n",
    "            axs[output_count].axis('off')\n",
    "            output_count+=1\n",
    "            \n",
    "            if output_count >= 3:\n",
    "                break\n",
    "        count+=1\n",
    "\n",
    "    cap.release()\n",
    "    cv2.destroyAllWindows()\n",
    "    fig.suptitle(\"Week %i Lab Exercise\\n %s SID:%i\"%(wk, name, SID),x=0.5,y=0.75)\n",
    "    plt.tight_layout()\n",
    "    plt.show()"
   ]
  },
  {
   "cell_type": "code",
   "execution_count": null,
   "metadata": {},
   "outputs": [],
   "source": [
    "# Change the 'path_to_output' to the path where your composited video is located\n",
    "path_to_output = ''\n",
    "generate_results(4, 'Your name', 12345567, path_to_output)"
   ]
  }
 ],
 "metadata": {
  "kernelspec": {
   "display_name": "Python 3",
   "language": "python",
   "name": "python3"
  },
  "language_info": {
   "codemirror_mode": {
    "name": "ipython",
    "version": 3
   },
   "file_extension": ".py",
   "mimetype": "text/x-python",
   "name": "python",
   "nbconvert_exporter": "python",
   "pygments_lexer": "ipython3",
   "version": "3.7.3"
  }
 },
 "nbformat": 4,
 "nbformat_minor": 2
}
